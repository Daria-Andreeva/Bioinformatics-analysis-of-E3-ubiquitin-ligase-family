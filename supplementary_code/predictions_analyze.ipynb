{
 "cells": [
  {
   "cell_type": "markdown",
   "metadata": {},
   "source": [
    "Данный код считывает данные из директории `pred_dir` c именами `predictions_*`, где `*` обозначает номер предсказания от `0` до `n`. Значения скоров для каждого сайта усредняются и в переменную `scores` записываются полученные результаты."
   ]
  },
  {
   "cell_type": "code",
   "execution_count": 16,
   "metadata": {},
   "outputs": [],
   "source": [
    "import pandas as pd\n",
    "import numpy as np\n",
    "from collections import Counter"
   ]
  },
  {
   "cell_type": "code",
   "execution_count": 17,
   "metadata": {},
   "outputs": [],
   "source": [
    "pred_dir = 'D:/IB_spring_project/5fer/1ns_res/predictions/'"
   ]
  },
  {
   "cell_type": "code",
   "execution_count": 20,
   "metadata": {},
   "outputs": [],
   "source": [
    "n = 20\n",
    "residue_dict = {}\n",
    "\n",
    "for i in range(n):\n",
    "    df = np.array(pd.read_csv(pred_dir+'predictions_'+str(i)+'.csv'))\n",
    "    for j in df:\n",
    "        if j[7] in residue_dict:\n",
    "            residue_dict[j[7]][0] += 1\n",
    "            residue_dict[j[7]][1] += j[2]\n",
    "        else:\n",
    "            residue_dict[j[7]] = [1, j[2]]\n",
    "            \n",
    "for key in residue_dict.keys():\n",
    "    residue_dict[key] = residue_dict[key][1]/residue_dict[key][0] \n",
    "    \n",
    "sort_r_dict = {}\n",
    "sort_r_keys = reversed(sorted(residue_dict, key=residue_dict.get))\n",
    "\n",
    "for w in sort_r_keys:\n",
    "    sort_r_dict[w]=residue_dict[w]\n",
    "    \n",
    "scores = pd.DataFrame(sort_r_dict.values(), index=sort_r_dict.keys(),columns=['mean_score'])"
   ]
  },
  {
   "cell_type": "code",
   "execution_count": 22,
   "metadata": {},
   "outputs": [
    {
     "data": {
      "text/html": [
       "<div>\n",
       "<style scoped>\n",
       "    .dataframe tbody tr th:only-of-type {\n",
       "        vertical-align: middle;\n",
       "    }\n",
       "\n",
       "    .dataframe tbody tr th {\n",
       "        vertical-align: top;\n",
       "    }\n",
       "\n",
       "    .dataframe thead th {\n",
       "        text-align: right;\n",
       "    }\n",
       "</style>\n",
       "<table border=\"1\" class=\"dataframe\">\n",
       "  <thead>\n",
       "    <tr style=\"text-align: right;\">\n",
       "      <th></th>\n",
       "      <th>mean_score</th>\n",
       "    </tr>\n",
       "  </thead>\n",
       "  <tbody>\n",
       "    <tr>\n",
       "      <th>A_20_PHE;A_21_LYS;A_32_PHE;A_33_CYS</th>\n",
       "      <td>0.506292</td>\n",
       "    </tr>\n",
       "    <tr>\n",
       "      <th>A_20_PHE;A_30_HIS;A_31_ASN;A_52_GLN</th>\n",
       "      <td>0.260061</td>\n",
       "    </tr>\n",
       "    <tr>\n",
       "      <th>A_10_GLU;A_11_LEU;A_12_SER;A_13_CYS;A_20_PHE</th>\n",
       "      <td>0.214533</td>\n",
       "    </tr>\n",
       "    <tr>\n",
       "      <th>A_36_CYS;A_37_LEU;A_40_THR;A_51_PRO</th>\n",
       "      <td>0.208710</td>\n",
       "    </tr>\n",
       "    <tr>\n",
       "      <th>B_48_TYR;B_49_LEU;B_50_CYS;B_51_PRO;B_53_CYS;B_54_ARG;B_55_ALA;B_56_VAL</th>\n",
       "      <td>0.196173</td>\n",
       "    </tr>\n",
       "    <tr>\n",
       "      <th>...</th>\n",
       "      <td>...</td>\n",
       "    </tr>\n",
       "    <tr>\n",
       "      <th>A_1_MET;A_2_ALA;A_3_GLU;B_3_GLU;B_4_LEU</th>\n",
       "      <td>0.010098</td>\n",
       "    </tr>\n",
       "    <tr>\n",
       "      <th>A_70_CYS;A_71_ASN;A_72_VAL;A_74_GLU;A_75_GLN;B_10_GLU</th>\n",
       "      <td>0.010040</td>\n",
       "    </tr>\n",
       "    <tr>\n",
       "      <th>A_69_LEU;A_70_CYS;A_71_ASN;A_72_VAL;A_73_VAL;A_74_GLU;A_75_GLN</th>\n",
       "      <td>0.010022</td>\n",
       "    </tr>\n",
       "    <tr>\n",
       "      <th>B_13_CYS;B_20_PHE;B_31_ASN;B_32_PHE;B_33_CYS;B_36_CYS</th>\n",
       "      <td>0.010015</td>\n",
       "    </tr>\n",
       "    <tr>\n",
       "      <th>A_8_ALA;A_11_LEU;A_19_PRO;A_76_PHE;A_77_LEU</th>\n",
       "      <td>0.010014</td>\n",
       "    </tr>\n",
       "  </tbody>\n",
       "</table>\n",
       "<p>778 rows × 1 columns</p>\n",
       "</div>"
      ],
      "text/plain": [
       "                                                    mean_score\n",
       "A_20_PHE;A_21_LYS;A_32_PHE;A_33_CYS                   0.506292\n",
       "A_20_PHE;A_30_HIS;A_31_ASN;A_52_GLN                   0.260061\n",
       "A_10_GLU;A_11_LEU;A_12_SER;A_13_CYS;A_20_PHE          0.214533\n",
       "A_36_CYS;A_37_LEU;A_40_THR;A_51_PRO                   0.208710\n",
       "B_48_TYR;B_49_LEU;B_50_CYS;B_51_PRO;B_53_CYS;B_...    0.196173\n",
       "...                                                        ...\n",
       "A_1_MET;A_2_ALA;A_3_GLU;B_3_GLU;B_4_LEU               0.010098\n",
       "A_70_CYS;A_71_ASN;A_72_VAL;A_74_GLU;A_75_GLN;B_...    0.010040\n",
       "A_69_LEU;A_70_CYS;A_71_ASN;A_72_VAL;A_73_VAL;A_...    0.010022\n",
       "B_13_CYS;B_20_PHE;B_31_ASN;B_32_PHE;B_33_CYS;B_...    0.010015\n",
       "A_8_ALA;A_11_LEU;A_19_PRO;A_76_PHE;A_77_LEU           0.010014\n",
       "\n",
       "[778 rows x 1 columns]"
      ]
     },
     "execution_count": 22,
     "metadata": {},
     "output_type": "execute_result"
    }
   ],
   "source": [
    "scores"
   ]
  }
 ],
 "metadata": {
  "kernelspec": {
   "display_name": "Python 3",
   "language": "python",
   "name": "python3"
  },
  "language_info": {
   "codemirror_mode": {
    "name": "ipython",
    "version": 3
   },
   "file_extension": ".py",
   "mimetype": "text/x-python",
   "name": "python",
   "nbconvert_exporter": "python",
   "pygments_lexer": "ipython3",
   "version": "3.8.3"
  }
 },
 "nbformat": 4,
 "nbformat_minor": 5
}
