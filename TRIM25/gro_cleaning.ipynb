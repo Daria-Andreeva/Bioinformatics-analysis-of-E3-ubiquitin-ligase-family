{
 "cells": [
  {
   "cell_type": "code",
   "execution_count": 22,
   "metadata": {},
   "outputs": [],
   "source": [
    "gro_path = '/media/data/IB_spring_project/5fer/conf.gro'"
   ]
  },
  {
   "cell_type": "code",
   "execution_count": 23,
   "metadata": {},
   "outputs": [],
   "source": [
    "start_B = '1MET      N 1200   3.542   6.058   8.546'\n",
    "start_D = '3GLU      N 4751   4.463   8.435  11.117'\n",
    "start_E = '1MET      N 5964   6.801   6.877  11.674'\n",
    "start_Zn = '101ZN      ZN 9525   4.194   6.283   9.102'\n",
    "start_water_B = '201HOH     OW 9562   5.873   5.596   7.663'\n",
    "start_water_D = '201HOH     OW 9622   6.052   5.323  11.391'\n",
    "start_water_E = '201HOH     OW 9664   4.915   5.002  14.233'\n",
    "end_line = '6.04800   7.17000  16.04300'"
   ]
  },
  {
   "cell_type": "code",
   "execution_count": 24,
   "metadata": {},
   "outputs": [],
   "source": [
    "output_text = ''\n",
    "flag = 1\n",
    "cnt = 0\n",
    "\n",
    "with open(gro_path, 'r') as input_file:\n",
    "    for line in input_file:\n",
    "            if (start_B in line) or (start_E in line) or (start_water_B in line) or (start_water_E in line):\n",
    "                flag = 0\n",
    "            if (start_D in line) or (start_Zn in line) or (start_water_D in line) or (end_line in line):\n",
    "                flag = 1\n",
    "            if flag == 1:\n",
    "                cnt += 1\n",
    "                output_text += line "
   ]
  },
  {
   "cell_type": "code",
   "execution_count": 25,
   "metadata": {},
   "outputs": [],
   "source": [
    "out_gro = '/media/data/IB_spring_project/5fer/new_conf.gro'"
   ]
  },
  {
   "cell_type": "code",
   "execution_count": 26,
   "metadata": {},
   "outputs": [],
   "source": [
    "with open(out_gro, 'w') as output_file:\n",
    "    output_file.write(output_text)"
   ]
  },
  {
   "cell_type": "code",
   "execution_count": 27,
   "metadata": {},
   "outputs": [
    {
     "data": {
      "text/plain": [
       "2494"
      ]
     },
     "execution_count": 27,
     "metadata": {},
     "output_type": "execute_result"
    }
   ],
   "source": [
    "cnt"
   ]
  },
  {
   "cell_type": "code",
   "execution_count": 30,
   "metadata": {},
   "outputs": [],
   "source": [
    "num_of_atoms = cnt-3"
   ]
  },
  {
   "cell_type": "code",
   "execution_count": 29,
   "metadata": {},
   "outputs": [],
   "source": [
    "output_text = ''"
   ]
  },
  {
   "cell_type": "code",
   "execution_count": 31,
   "metadata": {},
   "outputs": [],
   "source": [
    "with open(out_gro, 'r') as input_file:\n",
    "    for count, line in enumerate(input_file):\n",
    "        if 2 <= count < cnt-1:\n",
    "            output_text += line[:15] +' '*(5-len(str(count-1))) + str(count-1) + ' '*3 + line[23:]\n",
    "        elif count == 0:\n",
    "            output_text += 'E3 ligase trim\\n'\n",
    "        elif count == 1:\n",
    "            output_text += str(num_of_atoms) + '\\n'\n",
    "        else:\n",
    "            output_text += line    "
   ]
  },
  {
   "cell_type": "code",
   "execution_count": 32,
   "metadata": {},
   "outputs": [],
   "source": [
    "new_new_gro = '/media/data/IB_spring_project/5fer/new_new_conf.gro'"
   ]
  },
  {
   "cell_type": "code",
   "execution_count": 33,
   "metadata": {},
   "outputs": [],
   "source": [
    "with open(new_new_gro, 'w') as output_file:\n",
    "    output_file.write(output_text)"
   ]
  }
 ],
 "metadata": {
  "kernelspec": {
   "display_name": "Python 3",
   "language": "python",
   "name": "python3"
  },
  "language_info": {
   "codemirror_mode": {
    "name": "ipython",
    "version": 3
   },
   "file_extension": ".py",
   "mimetype": "text/x-python",
   "name": "python",
   "nbconvert_exporter": "python",
   "pygments_lexer": "ipython3",
   "version": "3.9.1"
  }
 },
 "nbformat": 4,
 "nbformat_minor": 4
}
